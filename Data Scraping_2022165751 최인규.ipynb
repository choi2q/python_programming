{
  "nbformat": 4,
  "nbformat_minor": 0,
  "metadata": {
    "colab": {
      "provenance": [],
      "authorship_tag": "ABX9TyOwdUCFP9cKz9ntkQ1eGXIo",
      "include_colab_link": true
    },
    "kernelspec": {
      "name": "python3",
      "display_name": "Python 3"
    },
    "language_info": {
      "name": "python"
    }
  },
  "cells": [
    {
      "cell_type": "markdown",
      "metadata": {
        "id": "view-in-github",
        "colab_type": "text"
      },
      "source": [
        "<a href=\"https://colab.research.google.com/github/choi2q/python_programming/blob/main/Data%20Scraping_2022165751%20%EC%B5%9C%EC%9D%B8%EA%B7%9C.ipynb\" target=\"_parent\"><img src=\"https://colab.research.google.com/assets/colab-badge.svg\" alt=\"Open In Colab\"/></a>"
      ]
    },
    {
      "cell_type": "code",
      "source": [
        "import xml.etree.ElementTree as et\n",
        "\n",
        "tree = et.ElementTree(file='menu.xml')\n",
        "root = tree.getroot()\n",
        "\n",
        "\n",
        "for child in root:\n",
        "    print('tag:', child.tag, 'attributes:', child.attrib)\n",
        "    for grandchild in child:\n",
        "        print('\\ttag:', grandchild.tag, 'attributes:', grandchild.attrib)"
      ],
      "metadata": {
        "colab": {
          "base_uri": "https://localhost:8080/"
        },
        "id": "0dZfI0LD-eeL",
        "outputId": "895cc12b-963b-4200-d844-7fa758602fc0"
      },
      "execution_count": 12,
      "outputs": [
        {
          "output_type": "stream",
          "name": "stdout",
          "text": [
            "tag: breakfast attributes: {'hours': '7-11'}\n",
            "\ttag: item attributes: {'price': '$6.00'}\n",
            "\ttag: item attributes: {'price': '$4.00'}\n",
            "tag: lunch attributes: {'hours': '11-3'}\n",
            "\ttag: item attributes: {'price': '$5.00'}\n",
            "tag: dinner attributes: {'hours': '3-10'}\n",
            "\ttag: item attributes: {'price': '8.00'}\n"
          ]
        }
      ]
    },
    {
      "cell_type": "code",
      "source": [
        "len(root)"
      ],
      "metadata": {
        "colab": {
          "base_uri": "https://localhost:8080/"
        },
        "id": "_wDsapMDDv1-",
        "outputId": "e6715508-1f58-45ff-f7b5-93a26a196d82"
      },
      "execution_count": 13,
      "outputs": [
        {
          "output_type": "execute_result",
          "data": {
            "text/plain": [
              "3"
            ]
          },
          "metadata": {},
          "execution_count": 13
        }
      ]
    },
    {
      "cell_type": "code",
      "source": [
        "len(root[0])"
      ],
      "metadata": {
        "colab": {
          "base_uri": "https://localhost:8080/"
        },
        "id": "-uZMdrjsD3GB",
        "outputId": "8021147f-aa12-4150-f8b7-2e508b9e47db"
      },
      "execution_count": 14,
      "outputs": [
        {
          "output_type": "execute_result",
          "data": {
            "text/plain": [
              "2"
            ]
          },
          "metadata": {},
          "execution_count": 14
        }
      ]
    },
    {
      "cell_type": "code",
      "source": [
        "type(root[0])"
      ],
      "metadata": {
        "colab": {
          "base_uri": "https://localhost:8080/"
        },
        "id": "UcF_YAbWD3Zo",
        "outputId": "750d5698-9282-4c10-a428-e3e757d250b6"
      },
      "execution_count": 15,
      "outputs": [
        {
          "output_type": "execute_result",
          "data": {
            "text/plain": [
              "xml.etree.ElementTree.Element"
            ]
          },
          "metadata": {},
          "execution_count": 15
        }
      ]
    },
    {
      "cell_type": "code",
      "source": [
        "print(root[0])"
      ],
      "metadata": {
        "colab": {
          "base_uri": "https://localhost:8080/"
        },
        "id": "ApBqNbUpD3ci",
        "outputId": "a595274d-671d-4b13-93d9-65168522f636"
      },
      "execution_count": 17,
      "outputs": [
        {
          "output_type": "stream",
          "name": "stdout",
          "text": [
            "<Element 'breakfast' at 0x7fa9e8a47510>\n"
          ]
        }
      ]
    },
    {
      "cell_type": "code",
      "source": [
        "print(root[0].get(\"hours\"))"
      ],
      "metadata": {
        "colab": {
          "base_uri": "https://localhost:8080/"
        },
        "id": "oDtwhCILD3fi",
        "outputId": "904fc9ad-463d-478e-96db-14d7df858059"
      },
      "execution_count": 18,
      "outputs": [
        {
          "output_type": "stream",
          "name": "stdout",
          "text": [
            "7-11\n"
          ]
        }
      ]
    },
    {
      "cell_type": "code",
      "source": [
        "print(root[0].key())"
      ],
      "metadata": {
        "id": "KTyadmIyD3iV"
      },
      "execution_count": null,
      "outputs": []
    },
    {
      "cell_type": "code",
      "source": [
        "print(root[0].items())"
      ],
      "metadata": {
        "colab": {
          "base_uri": "https://localhost:8080/"
        },
        "id": "d-axI2ZUEjzs",
        "outputId": "d5378920-f370-443c-bd60-dccacb40a017"
      },
      "execution_count": 22,
      "outputs": [
        {
          "output_type": "stream",
          "name": "stdout",
          "text": [
            "[('hours', '7-11')]\n"
          ]
        }
      ]
    },
    {
      "cell_type": "code",
      "source": [
        "lunch=root.find(\"lunch\")"
      ],
      "metadata": {
        "id": "H95tSKZ0Eqz2"
      },
      "execution_count": 23,
      "outputs": []
    },
    {
      "cell_type": "code",
      "source": [
        "print(lunch)"
      ],
      "metadata": {
        "colab": {
          "base_uri": "https://localhost:8080/"
        },
        "id": "MZmQGkWxEq2w",
        "outputId": "a132d4d4-658c-4a2c-bbec-6cf5a6443f2d"
      },
      "execution_count": 24,
      "outputs": [
        {
          "output_type": "stream",
          "name": "stdout",
          "text": [
            "<Element 'lunch' at 0x7fa9e8a45da0>\n"
          ]
        }
      ]
    },
    {
      "cell_type": "code",
      "source": [
        "print(lunch.get(\"hours\"))"
      ],
      "metadata": {
        "colab": {
          "base_uri": "https://localhost:8080/"
        },
        "id": "AEkBcdWdEq53",
        "outputId": "ea91844a-0122-4edc-e13a-fd7c6ccd49d5"
      },
      "execution_count": 25,
      "outputs": [
        {
          "output_type": "stream",
          "name": "stdout",
          "text": [
            "11-3\n"
          ]
        }
      ]
    },
    {
      "cell_type": "code",
      "source": [
        "print(lunch.key())"
      ],
      "metadata": {
        "id": "LWLjqLjREq8g"
      },
      "execution_count": null,
      "outputs": []
    },
    {
      "cell_type": "code",
      "source": [
        "print(lunch.item())"
      ],
      "metadata": {
        "id": "v3-kNDNMEq_G"
      },
      "execution_count": null,
      "outputs": []
    },
    {
      "cell_type": "code",
      "source": [
        "print(root[0].findall('item'))"
      ],
      "metadata": {
        "colab": {
          "base_uri": "https://localhost:8080/"
        },
        "id": "kgrmKLE4ErBg",
        "outputId": "cc60e6e9-28bf-4c59-b9cb-d3e543472d16"
      },
      "execution_count": 28,
      "outputs": [
        {
          "output_type": "stream",
          "name": "stdout",
          "text": [
            "[<Element 'item' at 0x7fa9e8a47470>, <Element 'item' at 0x7fa9e8a473d0>]\n"
          ]
        }
      ]
    },
    {
      "cell_type": "code",
      "source": [
        "{\n",
        "    \"이름\": \"홍길동\",\n",
        "    \"나이\": 55,\n",
        "    \"성별\": \"남\",\n",
        "    \"주소\": \"서울특별시 양천구 목동\",\n",
        "    \"특기\": [\"검술\", \"코딩\"],\n",
        "    \"가족관계\": {\"#\": 2, \"아버지\": \"홍판서\", \"어머니\": \"춘섬\"},\n",
        "    \"회사\": \"경기 수원시 팔달구 우만동\"\n",
        " }"
      ],
      "metadata": {
        "colab": {
          "base_uri": "https://localhost:8080/"
        },
        "id": "8Nu0KwgqErD8",
        "outputId": "15787c27-d593-4031-b147-ab84bfe6daa3"
      },
      "execution_count": 29,
      "outputs": [
        {
          "output_type": "execute_result",
          "data": {
            "text/plain": [
              "{'이름': '홍길동',\n",
              " '나이': 55,\n",
              " '성별': '남',\n",
              " '주소': '서울특별시 양천구 목동',\n",
              " '특기': ['검술', '코딩'],\n",
              " '가족관계': {'#': 2, '아버지': '홍판서', '어머니': '춘섬'},\n",
              " '회사': '경기 수원시 팔달구 우만동'}"
            ]
          },
          "metadata": {},
          "execution_count": 29
        }
      ]
    },
    {
      "cell_type": "code",
      "source": [
        "import json\n",
        "j1 = {\"name\":\"홍길동\", \"birth\":\"0525\", \"age\": 30}\n",
        "j1"
      ],
      "metadata": {
        "colab": {
          "base_uri": "https://localhost:8080/"
        },
        "id": "oPuWOgsM_4Wb",
        "outputId": "7ee8e8cc-d48a-4f0d-912c-30cd8fc97876"
      },
      "execution_count": 31,
      "outputs": [
        {
          "output_type": "execute_result",
          "data": {
            "text/plain": [
              "{'name': '홍길동', 'birth': '0525', 'age': 30}"
            ]
          },
          "metadata": {},
          "execution_count": 31
        }
      ]
    },
    {
      "cell_type": "code",
      "source": [
        "json.dumps(j1)"
      ],
      "metadata": {
        "colab": {
          "base_uri": "https://localhost:8080/",
          "height": 35
        },
        "id": "dOkGa23eFka1",
        "outputId": "250825b4-d782-4de9-e145-086a0f195fe5"
      },
      "execution_count": 32,
      "outputs": [
        {
          "output_type": "execute_result",
          "data": {
            "text/plain": [
              "'{\"name\": \"\\\\ud64d\\\\uae38\\\\ub3d9\", \"birth\": \"0525\", \"age\": 30}'"
            ],
            "application/vnd.google.colaboratory.intrinsic+json": {
              "type": "string"
            }
          },
          "metadata": {},
          "execution_count": 32
        }
      ]
    },
    {
      "cell_type": "code",
      "source": [
        "print(json.dumps(j1, indent=2))"
      ],
      "metadata": {
        "colab": {
          "base_uri": "https://localhost:8080/"
        },
        "id": "YEQx5NfmEocq",
        "outputId": "36e01751-161f-46c2-fa24-343bd5f02fb6"
      },
      "execution_count": 33,
      "outputs": [
        {
          "output_type": "stream",
          "name": "stdout",
          "text": [
            "{\n",
            "  \"name\": \"\\ud64d\\uae38\\ub3d9\",\n",
            "  \"birth\": \"0525\",\n",
            "  \"age\": 30\n",
            "}\n"
          ]
        }
      ]
    },
    {
      "cell_type": "code",
      "source": [
        "json.dumps([1,2,3])"
      ],
      "metadata": {
        "colab": {
          "base_uri": "https://localhost:8080/",
          "height": 35
        },
        "id": "fnns-mD7Eofp",
        "outputId": "ee8d4a10-2ec7-469a-a60e-b1815eb7a3f0"
      },
      "execution_count": 34,
      "outputs": [
        {
          "output_type": "execute_result",
          "data": {
            "text/plain": [
              "'[1, 2, 3]'"
            ],
            "application/vnd.google.colaboratory.intrinsic+json": {
              "type": "string"
            }
          },
          "metadata": {},
          "execution_count": 34
        }
      ]
    },
    {
      "cell_type": "code",
      "source": [
        "json.dumps((4,5,6))"
      ],
      "metadata": {
        "colab": {
          "base_uri": "https://localhost:8080/",
          "height": 35
        },
        "id": "uPIh7S2oEoij",
        "outputId": "7f031f06-ab6b-4bea-c86a-b355738b58e8"
      },
      "execution_count": 35,
      "outputs": [
        {
          "output_type": "execute_result",
          "data": {
            "text/plain": [
              "'[4, 5, 6]'"
            ],
            "application/vnd.google.colaboratory.intrinsic+json": {
              "type": "string"
            }
          },
          "metadata": {},
          "execution_count": 35
        }
      ]
    },
    {
      "cell_type": "code",
      "source": [
        "j1 = {\"name\":\"홍길동\", \"birth\":\"0525\", \"age\": 30}\n",
        "d1 = json.dumps(j1)\n",
        "json.loads(d1)"
      ],
      "metadata": {
        "colab": {
          "base_uri": "https://localhost:8080/"
        },
        "id": "y3Ng8oVoF-ga",
        "outputId": "70fde361-d013-40bd-96fe-aa7b7c6ea239"
      },
      "execution_count": 37,
      "outputs": [
        {
          "output_type": "execute_result",
          "data": {
            "text/plain": [
              "{'name': '홍길동', 'birth': '0525', 'age': 30}"
            ]
          },
          "metadata": {},
          "execution_count": 37
        }
      ]
    },
    {
      "cell_type": "code",
      "source": [
        "{\n",
        "\"name\": \"홍길동\",\n",
        "\"birth\": \"0525\",\n",
        "\"age\": 30\n",
        "}"
      ],
      "metadata": {
        "colab": {
          "base_uri": "https://localhost:8080/"
        },
        "id": "B8_XmIoSGDDD",
        "outputId": "13d289c5-4e9a-43d6-d86b-47a855f0c5b7"
      },
      "execution_count": 38,
      "outputs": [
        {
          "output_type": "execute_result",
          "data": {
            "text/plain": [
              "{'name': '홍길동', 'birth': '0525', 'age': 30}"
            ]
          },
          "metadata": {},
          "execution_count": 38
        }
      ]
    }
  ]
}