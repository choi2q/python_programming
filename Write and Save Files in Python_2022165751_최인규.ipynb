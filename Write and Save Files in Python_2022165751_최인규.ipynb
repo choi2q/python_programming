{
  "nbformat": 4,
  "nbformat_minor": 0,
  "metadata": {
    "colab": {
      "provenance": [],
      "authorship_tag": "ABX9TyO3X5f7H6Kr6FlCql0TXaRn",
      "include_colab_link": true
    },
    "kernelspec": {
      "name": "python3",
      "display_name": "Python 3"
    },
    "language_info": {
      "name": "python"
    }
  },
  "cells": [
    {
      "cell_type": "markdown",
      "metadata": {
        "id": "view-in-github",
        "colab_type": "text"
      },
      "source": [
        "<a href=\"https://colab.research.google.com/github/choi2q/python_programming/blob/main/Write%20and%20Save%20Files%20in%20Python_2022165751_%EC%B5%9C%EC%9D%B8%EA%B7%9C.ipynb\" target=\"_parent\"><img src=\"https://colab.research.google.com/assets/colab-badge.svg\" alt=\"Open In Colab\"/></a>"
      ]
    },
    {
      "cell_type": "code",
      "execution_count": 1,
      "metadata": {
        "colab": {
          "base_uri": "https://localhost:8080/"
        },
        "id": "jiyFwApmsts-",
        "outputId": "f6b0057c-b281-4ab0-da57-23e4a68f622e"
      },
      "outputs": [
        {
          "output_type": "stream",
          "name": "stdout",
          "text": [
            "Mounted at /content/gdrive\n"
          ]
        }
      ],
      "source": [
        "from google.colab import drive\n",
        "drive.mount('/content/gdrive')"
      ]
    },
    {
      "cell_type": "code",
      "source": [
        "# Write line to file\n",
        "\n",
        "with open('/content/gdrive/My Drive/Colab Notebooks/연습1.txt', 'w') as writefile:\n",
        "    writefile.write(\"This is line A\")"
      ],
      "metadata": {
        "id": "aC1zkMDAs53C"
      },
      "execution_count": 2,
      "outputs": []
    },
    {
      "cell_type": "code",
      "source": [
        "# Read file\n",
        "\n",
        "with open('/content/gdrive/My Drive/Colab Notebooks/연습1.txt', 'r') as testwritefile:\n",
        "    print(testwritefile.read())"
      ],
      "metadata": {
        "colab": {
          "base_uri": "https://localhost:8080/"
        },
        "id": "0ceTtqawtN4z",
        "outputId": "8ffac4d3-4169-47a1-845d-4180d002de3d"
      },
      "execution_count": 4,
      "outputs": [
        {
          "output_type": "stream",
          "name": "stdout",
          "text": [
            "This is line A\n"
          ]
        }
      ]
    },
    {
      "cell_type": "code",
      "source": [
        "# Write lines to file\n",
        "\n",
        "with open('/content/gdrive/My Drive/Colab Notebooks/example10.txt', 'w') as writefile:\n",
        "    writefile.write(\"This is line A\\n\")\n",
        "    writefile.write(\"This is line B\\n\")\n",
        "    writefile.write(\"This is line 10\\n\")"
      ],
      "metadata": {
        "id": "tX21rBR2tUj_"
      },
      "execution_count": 5,
      "outputs": []
    },
    {
      "cell_type": "code",
      "source": [
        "# Check whether write to file\n",
        "\n",
        "with open('/content/gdrive/My Drive/Colab Notebooks/연습1.txt', 'r') as testwritefile:\n",
        "    print(testwritefile.read())"
      ],
      "metadata": {
        "colab": {
          "base_uri": "https://localhost:8080/"
        },
        "id": "ky3JxG2rtcO5",
        "outputId": "008dc43b-f131-4c77-ec74-a6db806daf17"
      },
      "execution_count": 6,
      "outputs": [
        {
          "output_type": "stream",
          "name": "stdout",
          "text": [
            "This is line A\n"
          ]
        }
      ]
    },
    {
      "cell_type": "code",
      "source": [
        "# Write a new line to text file\n",
        "\n",
        "with open('/content/gdrive/My Drive/Colab Notebooks/연습1.txt', 'a') as testwritefile:\n",
        "    testwritefile.write(\"This is line C\\n\")"
      ],
      "metadata": {
        "id": "EE-4MirEtiBv"
      },
      "execution_count": 7,
      "outputs": []
    },
    {
      "cell_type": "code",
      "source": [
        "# Verify if the new line is in the text file\n",
        "\n",
        "with open('/content/gdrive/My Drive/Colab Notebooks/연습1.txt', 'r') as testwritefile:\n",
        "    print(testwritefile.read())"
      ],
      "metadata": {
        "colab": {
          "base_uri": "https://localhost:8080/"
        },
        "id": "5RR2cHnztm1U",
        "outputId": "144ffdd0-0963-4bdc-813b-42ac05ed3161"
      },
      "execution_count": 8,
      "outputs": [
        {
          "output_type": "stream",
          "name": "stdout",
          "text": [
            "This is line AThis is line C\n",
            "\n"
          ]
        }
      ]
    },
    {
      "cell_type": "code",
      "source": [
        "# Sample list of text\n",
        "\n",
        "Lines = [\"This is line A\\n\", \"This is line B\\n\", \"This is line C\\n\"]\n",
        "Lines"
      ],
      "metadata": {
        "colab": {
          "base_uri": "https://localhost:8080/"
        },
        "id": "Bonh8dN-tsn8",
        "outputId": "4e952116-a139-46c5-ffe7-3e4bb537fd09"
      },
      "execution_count": 9,
      "outputs": [
        {
          "output_type": "execute_result",
          "data": {
            "text/plain": [
              "['This is line A\\n', 'This is line B\\n', 'This is line C\\n']"
            ]
          },
          "metadata": {},
          "execution_count": 9
        }
      ]
    },
    {
      "cell_type": "code",
      "source": [
        "# Write the strings in the list to text file\n",
        "\n",
        "with open('/content/gdrive/My Drive/Colab Notebooks/example11.txt', 'w') as writefile:\n",
        "    for line in Lines:\n",
        "        print(line)\n",
        "        writefile.write(line)"
      ],
      "metadata": {
        "colab": {
          "base_uri": "https://localhost:8080/"
        },
        "id": "zuHVEF3ctvVe",
        "outputId": "c393840b-7dc4-40d4-8144-9cc7d650c75e"
      },
      "execution_count": 10,
      "outputs": [
        {
          "output_type": "stream",
          "name": "stdout",
          "text": [
            "This is line A\n",
            "\n",
            "This is line B\n",
            "\n",
            "This is line C\n",
            "\n"
          ]
        }
      ]
    },
    {
      "cell_type": "code",
      "source": [
        "# Verify if writing to file is successfully executed\n",
        "\n",
        "with open('/content/gdrive/My Drive/Colab Notebooks/example11.txt', 'r') as testwritefile:\n",
        "    print(testwritefile.read())"
      ],
      "metadata": {
        "colab": {
          "base_uri": "https://localhost:8080/"
        },
        "id": "AF5RpHpgtzME",
        "outputId": "87e438bf-277f-4914-b7a2-bbfcf783b3da"
      },
      "execution_count": 11,
      "outputs": [
        {
          "output_type": "stream",
          "name": "stdout",
          "text": [
            "This is line A\n",
            "This is line B\n",
            "This is line C\n",
            "\n"
          ]
        }
      ]
    },
    {
      "cell_type": "code",
      "source": [
        "# Append the line to the file\n",
        "\n",
        "with open('/content/gdrive/My Drive/Colab Notebooks/example11.txt', 'a') as testwritefile:\n",
        "    testwritefile.write(\"This is line D\\n\")"
      ],
      "metadata": {
        "id": "LnjPkkaBt1Yk"
      },
      "execution_count": 12,
      "outputs": []
    },
    {
      "cell_type": "code",
      "source": [
        "# Verify if the appending is successfully executed\n",
        "\n",
        "with open('/content/gdrive/My Drive/Colab Notebooks/example3.txt', 'r') as testwritefile:\n",
        "    print(testwritefile.read())"
      ],
      "metadata": {
        "id": "hXiPw29Lt3mv"
      },
      "execution_count": null,
      "outputs": []
    },
    {
      "cell_type": "code",
      "source": [
        "# Copy file to another\n",
        "\n",
        "with open('/content/gdrive/My Drive/Colab Notebooks/example11.txt','r') as readfile:\n",
        "    with open('/content/gdrive/My Drive/Colab Notebooks/example12.txt','w') as writefile:\n",
        "          for line in readfile:\n",
        "                writefile.write(line)"
      ],
      "metadata": {
        "id": "i9XCtunduATk"
      },
      "execution_count": 15,
      "outputs": []
    },
    {
      "cell_type": "code",
      "source": [
        "# Verify if the copy is successfully executed\n",
        "\n",
        "with open('/content/gdrive/My Drive/Colab Notebooks/example12.txt','r') as testwritefile:\n",
        "    print(testwritefile.read())"
      ],
      "metadata": {
        "colab": {
          "base_uri": "https://localhost:8080/"
        },
        "id": "nmc9EebPuC8b",
        "outputId": "e8e71c72-dadf-4452-affe-780bf60b6821"
      },
      "execution_count": 16,
      "outputs": [
        {
          "output_type": "stream",
          "name": "stdout",
          "text": [
            "This is line A\n",
            "This is line B\n",
            "This is line C\n",
            "This is line D\n",
            "\n"
          ]
        }
      ]
    },
    {
      "cell_type": "code",
      "source": [
        "with open('/content/gdrive/My Drive/Colab Notebooks/example12.txt','r') as testwritefile:\n",
        "    print(testwritefile.read())"
      ],
      "metadata": {
        "colab": {
          "base_uri": "https://localhost:8080/"
        },
        "id": "Nzw1XLJIuFOr",
        "outputId": "e8cb1d8e-9e42-4642-b00b-e234ddb9482c"
      },
      "execution_count": 17,
      "outputs": [
        {
          "output_type": "stream",
          "name": "stdout",
          "text": [
            "This is line A\n",
            "This is line B\n",
            "This is line C\n",
            "This is line D\n",
            "\n"
          ]
        }
      ]
    }
  ]
}